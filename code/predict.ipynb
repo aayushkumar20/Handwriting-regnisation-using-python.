{
  "nbformat": 4,
  "nbformat_minor": 0,
  "metadata": {
    "colab": {
      "name": "predict.ipynb",
      "provenance": [],
      "authorship_tag": "ABX9TyPQnHG4gAVMT3v0fVDyPNY8",
      "include_colab_link": true
    },
    "kernelspec": {
      "name": "python3",
      "display_name": "Python 3"
    },
    "language_info": {
      "name": "python"
    }
  },
  "cells": [
    {
      "cell_type": "markdown",
      "metadata": {
        "id": "view-in-github",
        "colab_type": "text"
      },
      "source": [
        "<a href=\"https://colab.research.google.com/github/aayushkumar20/Handwritting-recognisation-using-python./blob/main/code/predict.ipynb\" target=\"_parent\"><img src=\"https://colab.research.google.com/assets/colab-badge.svg\" alt=\"Open In Colab\"/></a>"
      ]
    },
    {
      "cell_type": "code",
      "metadata": {
        "id": "vvsfDJiyErDd"
      },
      "source": [
        "from keras.modules import load_model\n",
        "from tkinter import *\n",
        "from PIL import ImageGrab, Image\n",
        "import tkinter as tk\n",
        "import win32gui\n",
        "import numpy as np\n",
        "model=load_model('mnist.h5')\n",
        "def predict_digit(img):\n",
        "    #resize image to 28x28 pixels\n",
        "    img=img.resize((28,28))\n",
        "    #covert rgb to grayscale\n",
        "    img=img.convert('L')\n",
        "    img=np.array(img)\n",
        "\n",
        "    img=img.reshape(1,28,28,1)\n",
        "    img=img/255\n",
        "\n",
        "    res=model.predict(img)\n",
        "    return np.argmax(res[0])\n",
        "class App(tk.Tk):\n",
        "    def __init__(self):\n",
        "        tk.Tk.__init__(self)\n",
        "\n",
        "        self.x=self.y=0\n",
        "        self.canvas=tk.Canvas(self,width=600,height=600,bg='white',cursor='cross')\n",
        "        self.label=tk.Label(self,text='Drawing..',font='Arial 20 bold',fg='black')\n",
        "        self.classify_btn=tk.Button(self,text='Classify',font='Arial 20 bold',command=self.classify_handwriting)\n",
        "        self.button_clear=tk.Button(self,text='clear',command=self.clear_all)\n",
        "        self.canvas.grid(row=0,column=0,pady=2,sticky=W)\n",
        "        self.label.grid(row=0,column=1,pady=2,padx=2)\n",
        "        self.classify_btn.grid(row=1,column=1,pady=2,padx=2)\n",
        "        self.button_clear.grid(row=1,column=0,pady=2)\n",
        "        self.canvas.bind(\"<B1-motion>\",self.draw_lines)\n",
        "    def clear_all(self):\n",
        "        self.canvas.delete(\"all\")\n",
        "        def classify_handwritting(self):\n",
        "            HWND=self.canvas.winfo_id()\n",
        "            rect=win32gui.GetWindowReact(HWND)\n",
        "            digit,acc=predict_digit(im)\n",
        "            self.label.configure(test=str(digit+',')+str(int(acc*100))+'%')\n",
        "        def draw_lines(self,event):\n",
        "            self.x=event.x\n",
        "            self.y=event.y\n",
        "            r=8\n",
        "            self.canvas.create_oval(self.x-r,self.y-r,self.x+r,self.y+r,fill='black')\n",
        "app=App()\n",
        "mainloop()\n",
        "\n"
      ],
      "execution_count": null,
      "outputs": []
    }
  ]
}